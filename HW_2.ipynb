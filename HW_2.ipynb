{
 "cells": [
  {
   "cell_type": "markdown",
   "metadata": {},
   "source": [
    "__1.__ Установить, какие произведения матриц $AB$ и $BA$ определены, и найти размерности полученных матриц:\n",
    "\n",
    "   а) $A$ — матрица $4\\times 2$, $B$ — матрица $4\\times 2$;\n",
    "    \n",
    "   б) $A$ — матрица $2\\times 5$, $B$ — матрица $5\\times 3$;\n",
    "    \n",
    "   в) $A$ — матрица $8\\times 3$, $B$ — матрица $3\\times 8$;\n",
    "    \n",
    "   г) $A$ — квадратная матрица $4\\times 4$, $B$ — квадратная матрица $4\\times 4$."
   ]
  },
  {
   "cell_type": "markdown",
   "metadata": {},
   "source": [
    "а) $A\\cdot B^{T},  B\\cdot A^{T} $ - матрица  $4\\times 4$\n",
    "\n",
    "$A^{T}\\cdot B,  B^{T}\\cdot A $ - матрица  $2\\times 2$"
   ]
  },
  {
   "cell_type": "markdown",
   "metadata": {},
   "source": [
    "б)\n",
    "$A\\cdot B  $ - матрица  $2\\times 3$\n",
    "\n",
    "$B^{T}\\cdot A^{T} $ - матрица  $3\\times 2$"
   ]
  },
  {
   "cell_type": "markdown",
   "metadata": {},
   "source": [
    "в)\n",
    "$A\\cdot B  $ - матрица  $8\\times 8$\n",
    "\n",
    "$B\\cdot A  $ - матрица  $3\\times 3$\n",
    "\n",
    "$B^{T}\\cdot A^{T} $ - матрица  $8\\times 8$\n",
    "\n",
    "$A^{T}\\cdot B^{T} $ - матрица  $3\\times 3$"
   ]
  },
  {
   "cell_type": "markdown",
   "metadata": {},
   "source": [
    "в)\n",
    "$A\\cdot B,  A^{T}\\cdot B^{T},  A^{T}\\cdot B,  A\\cdot B^{T}  $ - матрица  $4\\times 4$\n",
    "\n",
    "$B\\cdot A,  B^{T}\\cdot A^{T},  B^{T}\\cdot A,  B\\cdot A^{T}  $ - матрица  $4\\times 4$"
   ]
  },
  {
   "cell_type": "markdown",
   "metadata": {},
   "source": [
    "__2.__ Найти сумму и произведение матриц $A=\\begin{pmatrix}\n",
    "1 & -2\\\\ \n",
    "3 & 0\n",
    "\\end{pmatrix}$ и $B=\\begin{pmatrix}\n",
    "4 & -1\\\\ \n",
    "0 & 5\n",
    "\\end{pmatrix}.$"
   ]
  },
  {
   "cell_type": "markdown",
   "metadata": {},
   "source": [
    "$$A = \\begin{pmatrix}\n",
    "1 & -2\\\\ \n",
    "3 & 0\n",
    "\\end{pmatrix} B=\\begin{pmatrix}\n",
    "4 & -1\\\\ \n",
    "0 & 5\n",
    "\\end{pmatrix}.$$\n",
    "\n",
    "$$\\begin{pmatrix}\n",
    "1 & -2\\\\ \n",
    "3 & 0\n",
    "\\end{pmatrix} +\n",
    "\\begin{pmatrix}\n",
    "4 & -1\\\\ \n",
    "0 & 5\n",
    "\\end{pmatrix} = \n",
    "\\begin{pmatrix}\n",
    "1 + 4 & (-2)+ (-1)\\\\ \n",
    "3 + 0 & 0 + 5\n",
    "\\end{pmatrix} = \n",
    "\\begin{pmatrix}\n",
    "5 & -3\\\\ \n",
    "3 & 5\n",
    "\\end{pmatrix}.\n",
    "$$\n",
    "\n",
    "\n",
    "$$\\begin{pmatrix}\n",
    "1 & -2\\\\ \n",
    "3 & 0\n",
    "\\end{pmatrix} \\cdot\n",
    "\\begin{pmatrix}\n",
    "4 & -1\\\\ \n",
    "0 & 5\n",
    "\\end{pmatrix} = \n",
    "\\begin{pmatrix}\n",
    "1\\cdot 4 + (-2)\\cdot 0 & 1\\cdot(-1) + (-2)\\cdot 5\\\\ \n",
    "3\\cdot 4 + 0\\cdot 0 & 3\\cdot(-1) + 0\\cdot 5\n",
    "\\end{pmatrix} = \n",
    "\\begin{pmatrix}\n",
    "4 & -11\\\\ \n",
    "12 & -3\n",
    "\\end{pmatrix}.\n",
    "$$"
   ]
  },
  {
   "cell_type": "markdown",
   "metadata": {},
   "source": [
    "__3.__ Из закономерностей сложения и умножения матриц на число можно сделать вывод, что матрицы одного размера образуют линейное пространство. Вычислить линейную комбинацию $3A-2B+4C$ для матриц $A=\\begin{pmatrix}\n",
    "1 & 7\\\\ \n",
    "3 & -6\n",
    "\\end{pmatrix}$, $B=\\begin{pmatrix}\n",
    "0 & 5\\\\ \n",
    "2 & -1\n",
    "\\end{pmatrix}$, $C=\\begin{pmatrix}\n",
    "2 & -4\\\\ \n",
    "1 & 1\n",
    "\\end{pmatrix}.$"
   ]
  },
  {
   "cell_type": "markdown",
   "metadata": {},
   "source": [
    "$3\\begin{pmatrix}\n",
    "1 & 7\\\\ \n",
    "3 & -6\n",
    "\\end{pmatrix}$ $-2\\begin{pmatrix}\n",
    "0 & 5\\\\ \n",
    "2 & -1\n",
    "\\end{pmatrix}$ $+ 4\\begin{pmatrix}\n",
    "2 & -4\\\\ \n",
    "1 & 1\n",
    "\\end{pmatrix} =  \n",
    "\\begin{pmatrix}\n",
    "3\\cdot 1 + (-2)\\cdot 0 + 4\\cdot2 & 3\\cdot 7 + (-2)\\cdot 5 + 4\\cdot(-4) \\\\ \n",
    "3\\cdot 3 + (-2)\\cdot 2 + 4\\cdot1 & 3\\cdot (-6) + (-2)\\cdot (-1) + 4\\cdot(1)\n",
    "\\end{pmatrix}= \n",
    "\\begin{pmatrix}\n",
    "11 & -5\\\\ \n",
    "9 & -12\n",
    "\\end{pmatrix}.$"
   ]
  },
  {
   "cell_type": "markdown",
   "metadata": {},
   "source": [
    "__4.__ Дана матрица $A=\\begin{pmatrix}\n",
    "4 & 1\\\\ \n",
    "5 & -2\\\\ \n",
    "2 & 3\n",
    "\\end{pmatrix}$.\n",
    "Вычислить $AA^{T}$ и $A^{T}A$."
   ]
  },
  {
   "cell_type": "markdown",
   "metadata": {},
   "source": [
    "$A=\\begin{pmatrix}\n",
    "4 & 1\\\\ \n",
    "5 & -2\\\\ \n",
    "2 & 3\n",
    "\\end{pmatrix}\n",
    "A^{T}=\\begin{pmatrix}\n",
    "4 & 5 & 2\\\\ \n",
    "1 & -2 & 3\\\\ \n",
    "\\end{pmatrix}$"
   ]
  },
  {
   "cell_type": "markdown",
   "metadata": {},
   "source": [
    " $ AA^{T}=\n",
    "\\begin{pmatrix}\n",
    "4\\cdot 4 + 1\\cdot 1 & 4\\cdot 5 + 1\\cdot (-2) & 4\\cdot 2 + 1\\cdot 3\\\\ \n",
    "5\\cdot 4 + (-2)\\cdot 1 & 5\\cdot 5 + (-2)\\cdot (-2) & 5\\cdot 2 + (-2)\\cdot 3\\\\\n",
    "2\\cdot 4 + 3\\cdot 1 & 2\\cdot 5 + 3\\cdot (-2) & 2\\cdot 2 + 3\\cdot 3\\\\ \n",
    "\\end{pmatrix} = \n",
    "\\begin{pmatrix}\n",
    "17 & 18 & 11\\\\ \n",
    "18 & 29 & 4\\\\\n",
    "11 & 4 & 13\\\\\n",
    "\\end{pmatrix}$."
   ]
  },
  {
   "cell_type": "markdown",
   "metadata": {},
   "source": [
    "$\n",
    "A^{T}=\\begin{pmatrix}\n",
    "4 & 5 & 2\\\\ \n",
    "1 & -2 & 3\\\\ \n",
    "\\end{pmatrix}\n",
    "A=\\begin{pmatrix}\n",
    "4 & 1\\\\ \n",
    "5 & -2\\\\ \n",
    "2 & 3\n",
    "\\end{pmatrix}\n",
    "$"
   ]
  },
  {
   "cell_type": "markdown",
   "metadata": {},
   "source": [
    "$ A^{T}A=\n",
    "\\begin{pmatrix}\n",
    "4\\cdot 4 + 5\\cdot 5 + 2\\cdot 2 & 4\\cdot 1 + 5\\cdot (-2) + 2\\cdot 3\\\\ \n",
    "1\\cdot 4 + (-2)\\cdot 5 + 3\\cdot 2 & 1\\cdot 1  + (-2)\\cdot (-2) + 3\\cdot 3\\\\ \n",
    "\\end{pmatrix} = \n",
    "\\begin{pmatrix}\n",
    "45 & 0 \\\\ \n",
    "0 & 14\\\\\n",
    "\\end{pmatrix}$."
   ]
  },
  {
   "cell_type": "markdown",
   "metadata": {},
   "source": [
    "__5*.__ Написать на Python функцию для перемножения двух произвольных матриц, не используя NumPy."
   ]
  },
  {
   "cell_type": "code",
   "execution_count": null,
   "metadata": {},
   "outputs": [],
   "source": [
    "def (A,B)\n",
    "    "
   ]
  },
  {
   "cell_type": "markdown",
   "metadata": {},
   "source": [
    "### Вторая часть"
   ]
  },
  {
   "cell_type": "markdown",
   "metadata": {},
   "source": [
    "__1.__ Вычислить определитель:\n",
    "\n",
    "   a)\n",
    "\n",
    "$$\\begin{vmatrix}\n",
    "sinx & -cosx\\\\ \n",
    "cosx & sinx\n",
    "\\end{vmatrix};$$\n",
    "\n",
    "   б)\n",
    "    \n",
    "$$\\begin{vmatrix}\n",
    "4 & 2 & 3\\\\ \n",
    "0 & 5 & 1\\\\ \n",
    "0 & 0 & 9\n",
    "\\end{vmatrix};$$\n",
    "    \n",
    "   в)\n",
    "\n",
    "$$\\begin{vmatrix}\n",
    "1 & 2 & 3\\\\ \n",
    "4 & 5 & 6\\\\ \n",
    "7 & 8 & 9\n",
    "\\end{vmatrix}.$$"
   ]
  },
  {
   "cell_type": "markdown",
   "metadata": {},
   "source": [
    "а) $2(sinx + cosx)$"
   ]
  },
  {
   "cell_type": "code",
   "execution_count": 3,
   "metadata": {},
   "outputs": [
    {
     "data": {
      "text/plain": [
       "180"
      ]
     },
     "execution_count": 3,
     "metadata": {},
     "output_type": "execute_result"
    }
   ],
   "source": [
    "#б) так как матрица треугольного вида то определитель равен произведению элементов главной диагонали \n",
    "4 * 5 * 9"
   ]
  },
  {
   "cell_type": "code",
   "execution_count": 8,
   "metadata": {},
   "outputs": [
    {
     "name": "stdout",
     "output_type": "stream",
     "text": [
      "Матрица:\n",
      "[[4 2 3]\n",
      " [0 5 1]\n",
      " [0 0 9]]\n",
      "Определитель:\n",
      "180\n"
     ]
    }
   ],
   "source": [
    "a = np.array([[4, 2, 3], [0, 5, 1], [0, 0, 9]])\n",
    "print(f'Матрица:\\n{a}')\n",
    "print(f'Определитель:\\n{np.linalg.det(a):.0f}')"
   ]
  },
  {
   "cell_type": "code",
   "execution_count": 6,
   "metadata": {},
   "outputs": [],
   "source": [
    "import numpy as np\n",
    "import scipy.linalg"
   ]
  },
  {
   "cell_type": "markdown",
   "metadata": {},
   "source": [
    "в)\n",
    "\n",
    "в данной матрице наблюдается линейная зависимость, поэтому определитель равен 0"
   ]
  },
  {
   "cell_type": "code",
   "execution_count": 7,
   "metadata": {},
   "outputs": [
    {
     "name": "stdout",
     "output_type": "stream",
     "text": [
      "Матрица:\n",
      "[[1 2 3]\n",
      " [4 5 6]\n",
      " [7 8 9]]\n",
      "Определитель:\n",
      "0\n"
     ]
    }
   ],
   "source": [
    "a = np.array([[1, 2, 3], [4, 5, 6], [7, 8, 9]])\n",
    "print(f'Матрица:\\n{a}')\n",
    "print(f'Определитель:\\n{np.linalg.det(a):.0f}')"
   ]
  },
  {
   "cell_type": "markdown",
   "metadata": {},
   "source": [
    "__2.__ Определитель матрицы $A$ равен $4$. Найти:\n",
    "\n",
    "   а) $det(A^{2})$;\n",
    "    \n",
    "   б) $det(A^{T})$;\n",
    "    \n",
    "   в) $det(2A)$."
   ]
  },
  {
   "cell_type": "markdown",
   "metadata": {},
   "source": [
    "а) $4^{2} = 16 $\n",
    "\n",
    "б) $4$\n",
    "\n",
    "в) $4 * 8 = 32$"
   ]
  },
  {
   "cell_type": "code",
   "execution_count": null,
   "metadata": {},
   "outputs": [],
   "source": []
  },
  {
   "cell_type": "markdown",
   "metadata": {},
   "source": [
    "__3.__  Доказать, что матрица\n",
    "\n",
    "$$\\begin{pmatrix}\n",
    "-2 & 7 & -3\\\\ \n",
    "4 & -14 & 6\\\\ \n",
    "-3 & 7 & 13\n",
    "\\end{pmatrix}$$\n",
    "   \n",
    "вырожденная."
   ]
  },
  {
   "cell_type": "markdown",
   "metadata": {},
   "source": [
    "две строки данной матрицы находятся в линейной зависимости, значит определитель будет равен нулю и следовательно матрица окажется вырожденной или сингулярной."
   ]
  },
  {
   "cell_type": "markdown",
   "metadata": {},
   "source": [
    "__4.__ Найти ранг матрицы:\n",
    "\n",
    "   а) $\\begin{pmatrix}\n",
    "1 & 2 & 3\\\\ \n",
    "1 & 1 & 1\\\\ \n",
    "2 & 3 & 4\n",
    "\\end{pmatrix};$\n",
    "\n",
    "   б) $\\begin{pmatrix}\n",
    "0 & 0 & 2 & 1\\\\ \n",
    "0 & 0 & 2 & 2\\\\ \n",
    "0 & 0 & 4 & 3\\\\ \n",
    "2 & 3 & 5 & 6\n",
    "\\end{pmatrix}.$"
   ]
  },
  {
   "cell_type": "markdown",
   "metadata": {},
   "source": [
    "а) 3 строка является суммой первой и второй и поэтому отбрасываем её\n",
    "$\\begin{pmatrix}\n",
    "1 & 2 & 3\\\\ \n",
    "1 & 1 & 1\\\\ \n",
    "\\end{pmatrix};$\n",
    "ранг матрицы равен 2"
   ]
  },
  {
   "cell_type": "code",
   "execution_count": 23,
   "metadata": {},
   "outputs": [
    {
     "name": "stdout",
     "output_type": "stream",
     "text": [
      "Матрица:\n",
      "[[1 2 3]\n",
      " [1 1 1]\n",
      " [2 3 4]]\n",
      "Определитель:\n",
      "0\n"
     ]
    },
    {
     "data": {
      "text/plain": [
       "2"
      ]
     },
     "execution_count": 23,
     "metadata": {},
     "output_type": "execute_result"
    }
   ],
   "source": [
    "a = np.array([[1, 2, 3], [1, 1, 1], [2, 3, 4]])\n",
    "print(f'Матрица:\\n{a}')\n",
    "print(f'Определитель:\\n{np.linalg.det(a):.0f}')\n",
    "np.linalg.matrix_rank(a)"
   ]
  },
  {
   "cell_type": "markdown",
   "metadata": {},
   "source": [
    "б) 3 строка является суммой первой и второй и поэтому отбрасываем её $\\begin{pmatrix}\n",
    "0 & 0 & 2 & 1\\\\ \n",
    "0 & 0 & 2 & 2\\\\ \n",
    "2 & 3 & 5 & 6\n",
    "\\end{pmatrix}$ ;  ранг матрицы равен 3"
   ]
  },
  {
   "cell_type": "code",
   "execution_count": 25,
   "metadata": {},
   "outputs": [
    {
     "name": "stdout",
     "output_type": "stream",
     "text": [
      "Матрица:\n",
      "[[0 0 2 1]\n",
      " [0 0 2 2]\n",
      " [0 0 4 3]\n",
      " [2 3 4 5]]\n",
      "Определитель:\n",
      "0\n"
     ]
    },
    {
     "data": {
      "text/plain": [
       "3"
      ]
     },
     "execution_count": 25,
     "metadata": {},
     "output_type": "execute_result"
    }
   ],
   "source": [
    "a = np.array([[0, 0, 2, 1], [0, 0, 2, 2],[0, 0, 4, 3], [2, 3, 4, 5]])\n",
    "print(f'Матрица:\\n{a}')\n",
    "print(f'Определитель:\\n{np.linalg.det(a):.0f}')\n",
    "np.linalg.matrix_rank(a)"
   ]
  }
 ],
 "metadata": {
  "kernelspec": {
   "display_name": "Python 3",
   "language": "python",
   "name": "python3"
  },
  "language_info": {
   "codemirror_mode": {
    "name": "ipython",
    "version": 3
   },
   "file_extension": ".py",
   "mimetype": "text/x-python",
   "name": "python",
   "nbconvert_exporter": "python",
   "pygments_lexer": "ipython3",
   "version": "3.8.5"
  }
 },
 "nbformat": 4,
 "nbformat_minor": 4
}
