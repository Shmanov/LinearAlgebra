{
 "cells": [
  {
   "cell_type": "markdown",
   "metadata": {},
   "source": [
    "__1.__ Найти собственные векторы и собственные значения для линейного оператора, заданного матрицей\n",
    "\n",
    "$$A=\\begin{pmatrix}\n",
    "-1 & -6\\\\ \n",
    "2 & 6\n",
    "\\end{pmatrix}.$$"
   ]
  },
  {
   "cell_type": "markdown",
   "metadata": {},
   "source": [
    "$A=\\begin{pmatrix}\n",
    "-1 & -6\\\\ \n",
    "2 & 6\n",
    "\\end{pmatrix}\n",
    "\\begin{pmatrix}\n",
    "x_{1}\\\\ \n",
    "x_{2}\n",
    "\\end{pmatrix}=\n",
    "\\lambda\n",
    "\\begin{pmatrix}\n",
    "x_{1}\\\\ \n",
    "x_{2}\n",
    "\\end{pmatrix}$\n",
    "\n",
    "$\\begin{cases}\n",
    "-x_{1}-6x_{2}=\\lambda x_{1}, \\\\\n",
    "2x_{1}+6x_{2}=\\lambda x_{2}.\n",
    "\\end{cases}$\n",
    "\n",
    "$\\begin{cases}\n",
    "-x_{1}-6x_{2} - \\lambda x_{1} = 0 \\\\\n",
    "2x_{1}+6x_{2} - \\lambda x_{2} = 0\n",
    "\\end{cases}$ \n",
    "\n",
    "$\\begin{cases}\n",
    "(-1 - \\lambda)x_{1} - 6x_{2} = 0 \\\\\n",
    "2x_{1} + (6 - \\lambda)x_{2} = 0\n",
    "\\end{cases}$ \n",
    "\n",
    "$\\begin{pmatrix}\n",
    "-1 - \\lambda & -6\\\\ \n",
    "2 & 6 - \\lambda\n",
    "\\end{pmatrix} = 0$\n",
    "\n",
    "$(-1 - \\lambda)(6 - \\lambda) - 2(-6) = 0$\n",
    "\n",
    "$\\lambda^2 - 5\\lambda +6 = 0$\n",
    "$D = 25 - 24 = 1; \\sqrt D = 1 $\n",
    "\n",
    "$\\lambda_{1} = \\frac{5-1}{2} = 2;$\n",
    "\n",
    "$\\lambda_{2} = \\frac{5+1}{2} = 3;$\n",
    "\n",
    "представим что $\\lambda_{1} = \\lambda_{2} = 2$, тогда\n",
    "\n",
    "$\\begin{cases}\n",
    "(-1 - 2)x_{1} - 6x_{2} = 0 \\\\\n",
    "2x_{1} + (6 - 2)x_{2} = 0\n",
    "\\end{cases} => x_{1} = -2x_{2}$ \n",
    "\n",
    "$x_{2} = -1$\n",
    "$x_{1} = -2(-1) = 2$\n",
    "\n",
    "представим что $\\lambda_{1} = \\lambda_{2} = 3$, тогда\n",
    "\n",
    "$\\begin{cases}\n",
    "(-1 - 3)x_{1} - 6x_{2} = 0 \\\\\n",
    "2x_{1} + (6 - 3)x_{2} = 0\n",
    "\\end{cases} => x_{1} = -\\frac{3}{2}x_{2}$ \n",
    "\n",
    "$x_{2} = -2$\n",
    "$x_{1} = -\\frac{3}{2}(-2) = 3$\n",
    "\n",
    "собственные числа : $\\lambda_{1} = 2; \\lambda_{2} = 3;$\n",
    "собственные векторы : \n",
    "$u_{1} = \\begin{pmatrix}\n",
    "2\\\\ \n",
    "-1\n",
    "\\end{pmatrix};\n",
    "u_{2} = \\begin{pmatrix}\n",
    "3\\\\ \n",
    "-2\n",
    "\\end{pmatrix}\n",
    "$"
   ]
  },
  {
   "cell_type": "markdown",
   "metadata": {},
   "source": [
    "__2.__ Дан оператор поворота на 180 градусов, задаваемый матрицей \n",
    "\n",
    "$$A=\\begin{pmatrix}\n",
    "-1 & 0\\\\ \n",
    "0 & -1\n",
    "\\end{pmatrix}.$$\n",
    "\n",
    "Показать, что __любой__ вектор является для него собственным."
   ]
  },
  {
   "cell_type": "markdown",
   "metadata": {},
   "source": [
    "$\\begin{pmatrix}\n",
    "-1 & 0\\\\ \n",
    "0 & -1\n",
    "\\end{pmatrix}\n",
    "\\begin{pmatrix}\n",
    "2\\\\ \n",
    "-1\n",
    "\\end{pmatrix}\n",
    "=\n",
    "\\begin{pmatrix}\n",
    "(-1 )\\cdot 2 + 0 \\cdot(-1) \\\\ \n",
    "0\\cdot2 + (-1) \\cdot(-1)\n",
    "\\end{pmatrix} = \n",
    "\\begin{pmatrix}\n",
    "-2 \\\\ \n",
    " 1\n",
    "\\end{pmatrix}=\n",
    "-1\\begin{pmatrix}\n",
    "2 \\\\ \n",
    "- 1\n",
    "\\end{pmatrix}\n",
    "$"
   ]
  },
  {
   "cell_type": "markdown",
   "metadata": {},
   "source": [
    "$\\begin{pmatrix}\n",
    "-1 & 0\\\\ \n",
    "0 & -1\n",
    "\\end{pmatrix}\n",
    "\\begin{pmatrix}\n",
    "3\\\\ \n",
    "-2\n",
    "\\end{pmatrix}\n",
    "=\n",
    "\\begin{pmatrix}\n",
    "(-1 )\\cdot 3 + 0 \\cdot(-2) \\\\ \n",
    "0\\cdot3 + (-1) \\cdot(-2)\n",
    "\\end{pmatrix} = \n",
    "\\begin{pmatrix}\n",
    "-3 \\\\ \n",
    " 2\n",
    "\\end{pmatrix}=\n",
    "-1\\begin{pmatrix}\n",
    "3 \\\\ \n",
    "-2\n",
    "\\end{pmatrix}\n",
    "$"
   ]
  },
  {
   "cell_type": "markdown",
   "metadata": {},
   "source": [
    "__3.__ Пусть линейный оператор задан матрицей\n",
    "\n",
    "$$A=\\begin{pmatrix}\n",
    "1 & 1\\\\ \n",
    "-1 & 3\n",
    "\\end{pmatrix}.$$\n",
    "\n",
    "Установить, является ли вектор $x=(1,1)$ собственным вектором этого линейного оператора."
   ]
  },
  {
   "cell_type": "markdown",
   "metadata": {},
   "source": [
    "$\\begin{pmatrix}\n",
    "1 & 1\\\\ \n",
    "-1 & 3\n",
    "\\end{pmatrix}\n",
    "\\begin{pmatrix}\n",
    "1\\\\ \n",
    "1\n",
    "\\end{pmatrix}\n",
    "=\n",
    "\\begin{pmatrix}\n",
    "1\\cdot 1 + 1 \\cdot1 \\\\ \n",
    "-1\\cdot1 + 3 \\cdot 1\n",
    "\\end{pmatrix} = \n",
    "\\begin{pmatrix}\n",
    "2 \\\\ \n",
    "2\n",
    "\\end{pmatrix}=\n",
    "2\\begin{pmatrix}\n",
    "1 \\\\ \n",
    "1\n",
    "\\end{pmatrix}\n",
    "$\n",
    "Ответ: является собственным вектором"
   ]
  },
  {
   "cell_type": "markdown",
   "metadata": {},
   "source": [
    "__4.__ Пусть линейный оператор задан матрицей\n",
    "\n",
    "$$A=\\begin{pmatrix}\n",
    "0 & 3 & 0\\\\ \n",
    "3 & 0 & 0\\\\\n",
    "0 & 0 & 3\n",
    "\\end{pmatrix}.$$\n",
    "\n",
    "Установить, является ли вектор $x=(3, -3, -4)$ собственным вектором этого линейного оператора."
   ]
  },
  {
   "cell_type": "code",
   "execution_count": 2,
   "metadata": {},
   "outputs": [],
   "source": [
    "import numpy as np\n",
    "np.set_printoptions(precision=2, suppress=True)"
   ]
  },
  {
   "cell_type": "code",
   "execution_count": 6,
   "metadata": {},
   "outputs": [
    {
     "name": "stdout",
     "output_type": "stream",
     "text": [
      "\n",
      "[ -9   9 -12]\n"
     ]
    }
   ],
   "source": [
    "x = np.array([3, -3,-4])\n",
    "a = np.array([[0, 3, 0], [3, 0, 0], [0, 0, 3]])\n",
    "c = a.dot(x)\n",
    "print(f'\\n{c}')"
   ]
  },
  {
   "cell_type": "code",
   "execution_count": 9,
   "metadata": {},
   "outputs": [
    {
     "name": "stdout",
     "output_type": "stream",
     "text": [
      "\n",
      "[-9  9 12]\n"
     ]
    }
   ],
   "source": [
    "print(f'\\n{-3*x}')"
   ]
  },
  {
   "cell_type": "markdown",
   "metadata": {},
   "source": [
    "Ответ: не является собственным вектором этого линейного оператора"
   ]
  }
 ],
 "metadata": {
  "kernelspec": {
   "display_name": "Python 3",
   "language": "python",
   "name": "python3"
  },
  "language_info": {
   "codemirror_mode": {
    "name": "ipython",
    "version": 3
   },
   "file_extension": ".py",
   "mimetype": "text/x-python",
   "name": "python",
   "nbconvert_exporter": "python",
   "pygments_lexer": "ipython3",
   "version": "3.8.5"
  }
 },
 "nbformat": 4,
 "nbformat_minor": 4
}
